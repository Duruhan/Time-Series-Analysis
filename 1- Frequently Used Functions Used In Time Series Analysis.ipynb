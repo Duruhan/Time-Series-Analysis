{
 "cells": [
  {
   "cell_type": "markdown",
   "id": "66ec0ec5",
   "metadata": {},
   "source": [
    "In this notebook, I would like to explore some of the frequently used functions in time series analysis."
   ]
  },
  {
   "cell_type": "markdown",
   "id": "67b447f5",
   "metadata": {},
   "source": [
    "### 1- Python datetime module"
   ]
  },
  {
   "cell_type": "code",
   "execution_count": 1,
   "id": "cae5dbb1",
   "metadata": {},
   "outputs": [],
   "source": [
    "from datetime import datetime"
   ]
  },
  {
   "cell_type": "code",
   "execution_count": 2,
   "id": "91a3efaf",
   "metadata": {},
   "outputs": [
    {
     "data": {
      "text/plain": [
       "datetime.datetime(2023, 2, 19, 0, 0)"
      ]
     },
     "execution_count": 2,
     "metadata": {},
     "output_type": "execute_result"
    }
   ],
   "source": [
    "# February 19th, 2023\n",
    "\n",
    "datetime(2023, #Year\n",
    "        2,     #Month\n",
    "        19     #Day\n",
    "        )"
   ]
  },
  {
   "cell_type": "code",
   "execution_count": 3,
   "id": "c2cf930b",
   "metadata": {},
   "outputs": [
    {
     "data": {
      "text/plain": [
       "datetime.datetime(2000, 1, 1, 12, 15, 15, 1)"
      ]
     },
     "execution_count": 3,
     "metadata": {},
     "output_type": "execute_result"
    }
   ],
   "source": [
    "# Hour, minute, second and microsecond are also available\n",
    "\n",
    "someDay = datetime(2000,1,1,\n",
    "                   12, # Hour\n",
    "                   15, # Minute\n",
    "                   15, # Second\n",
    "                   1)  # Microsecond\n",
    "someDay"
   ]
  },
  {
   "cell_type": "code",
   "execution_count": 4,
   "id": "05c63361",
   "metadata": {},
   "outputs": [
    {
     "name": "stdout",
     "output_type": "stream",
     "text": [
      "2000-01-01 12:15:15.000001\n"
     ]
    }
   ],
   "source": [
    "print(someDay)"
   ]
  },
  {
   "cell_type": "code",
   "execution_count": 5,
   "id": "b9dc0a11",
   "metadata": {},
   "outputs": [
    {
     "data": {
      "text/plain": [
       "datetime.timedelta(seconds=54177, microseconds=495753)"
      ]
     },
     "execution_count": 5,
     "metadata": {},
     "output_type": "execute_result"
    }
   ],
   "source": [
    "#difference between two datetime objects\n",
    "\n",
    "difference = datetime.now() - datetime(2023,2,19)\n",
    "difference"
   ]
  },
  {
   "cell_type": "code",
   "execution_count": 6,
   "id": "79ef227a",
   "metadata": {},
   "outputs": [
    {
     "name": "stdout",
     "output_type": "stream",
     "text": [
      "15:02:57.495753\n"
     ]
    }
   ],
   "source": [
    "print(difference)"
   ]
  },
  {
   "cell_type": "code",
   "execution_count": 7,
   "id": "687ae374",
   "metadata": {},
   "outputs": [
    {
     "data": {
      "text/plain": [
       "datetime.datetime(2023, 2, 19, 15, 2, 57, 526528)"
      ]
     },
     "execution_count": 7,
     "metadata": {},
     "output_type": "execute_result"
    }
   ],
   "source": [
    "datetime.now() #present time given with microsecond precision"
   ]
  },
  {
   "cell_type": "code",
   "execution_count": 8,
   "id": "a30482e0",
   "metadata": {},
   "outputs": [
    {
     "data": {
      "text/plain": [
       "datetime.datetime(2000, 1, 2, 3, 18, 12, 495754)"
      ]
     },
     "execution_count": 8,
     "metadata": {},
     "output_type": "execute_result"
    }
   ],
   "source": [
    "#two dates cannot be added together, but timedelta object can be added to a datetime object.\n",
    "\n",
    "someDay + difference"
   ]
  },
  {
   "cell_type": "markdown",
   "id": "fd334eef",
   "metadata": {},
   "source": [
    "### Date Formatting\n",
    "\n",
    "Python datetime <strong><a href='http://strftime.org/'>strftime</a></strong> codes.<br>\n",
    "\n",
    "<table style=\"display: inline-block\">  \n",
    "<tr><th>CODE</th><th>MEANING</th><th>EXAMPLE</th><tr>\n",
    "<tr><td>%Y</td><td>Year with century as a decimal number.</td><td>2001</td></tr>\n",
    "<tr><td>%y</td><td>Year without century as a zero-padded decimal number.</td><td>01</td></tr>\n",
    "<tr><td>%m</td><td>Month as a zero-padded decimal number.</td><td>02</td></tr>\n",
    "<tr><td>%B</td><td>Month as locale’s full name.</td><td>February</td></tr>\n",
    "<tr><td>%b</td><td>Month as locale’s abbreviated name.</td><td>Feb</td></tr>\n",
    "<tr><td>%d</td><td>Day of the month as a zero-padded decimal number.</td><td>03</td></tr>  \n",
    "<tr><td>%A</td><td>Weekday as locale’s full name.</td><td>Saturday</td></tr>\n",
    "<tr><td>%a</td><td>Weekday as locale’s abbreviated name.</td><td>Sat</td></tr>\n",
    "<tr><td>%H</td><td>Hour (24-hour clock) as a zero-padded decimal number.</td><td>16</td></tr>\n",
    "<tr><td>%I</td><td>Hour (12-hour clock) as a zero-padded decimal number.</td><td>04</td></tr>\n",
    "<tr><td>%p</td><td>Locale’s equivalent of either AM or PM.</td><td>PM</td></tr>\n",
    "<tr><td>%M</td><td>Minute as a zero-padded decimal number.</td><td>05</td></tr>\n",
    "<tr><td>%S</td><td>Second as a zero-padded decimal number.</td><td>06</td></tr>\n",
    "</table>\n",
    "<table style=\"display: inline-block\">\n",
    "<tr><th>CODE</th><th>MEANING</th><th>EXAMPLE</th><tr>\n",
    "<tr><td>%#m</td><td>Month as a decimal number. (Windows)</td><td>2</td></tr>\n",
    "<tr><td>%-m</td><td>Month as a decimal number. (Mac/Linux)</td><td>2</td></tr>\n",
    "<tr><td>%#x</td><td>Long date</td><td>Saturday, February 03, 2001</td></tr>\n",
    "<tr><td>%#c</td><td>Long date and time</td><td>Saturday, February 03, 2001 16:05:06</td></tr>\n",
    "</table>  \n",
    "    "
   ]
  },
  {
   "cell_type": "code",
   "execution_count": 9,
   "id": "ef35b492",
   "metadata": {},
   "outputs": [
    {
     "data": {
      "text/plain": [
       "'Saturday, January 01, 2000 12:15:15'"
      ]
     },
     "execution_count": 9,
     "metadata": {},
     "output_type": "execute_result"
    }
   ],
   "source": [
    "someDay.strftime('%#c')"
   ]
  },
  {
   "cell_type": "code",
   "execution_count": 10,
   "id": "dde9cb9d",
   "metadata": {},
   "outputs": [
    {
     "data": {
      "text/plain": [
       "'2000-01-01 Saturday, 12:15:15 PM'"
      ]
     },
     "execution_count": 10,
     "metadata": {},
     "output_type": "execute_result"
    }
   ],
   "source": [
    "someDay.strftime('%Y-%m-%d %A, %I:%M:%S %p')"
   ]
  },
  {
   "cell_type": "markdown",
   "id": "cc1ee5d0",
   "metadata": {},
   "source": [
    "### 2- NumPy Datetime Arrays and Date Ranges"
   ]
  },
  {
   "cell_type": "code",
   "execution_count": 11,
   "id": "8f990266",
   "metadata": {},
   "outputs": [],
   "source": [
    "import numpy as np"
   ]
  },
  {
   "cell_type": "markdown",
   "id": "d1df6e4c",
   "metadata": {},
   "source": [
    "#### Datetime Arrays"
   ]
  },
  {
   "cell_type": "code",
   "execution_count": 12,
   "id": "1f4e0a45",
   "metadata": {},
   "outputs": [
    {
     "data": {
      "text/plain": [
       "array(['2020-01-01', '2021-01-01', '2022-01-01'], dtype='datetime64[D]')"
      ]
     },
     "execution_count": 12,
     "metadata": {},
     "output_type": "execute_result"
    }
   ],
   "source": [
    "#NumPy data type is called 'datetime64'\n",
    "np.array(['2020-01-01', '2021-01-01', '2022-01-01'], dtype = 'datetime64')"
   ]
  },
  {
   "cell_type": "markdown",
   "id": "7d4c5c36",
   "metadata": {},
   "source": [
    "Numpy Datetime and Timedelta data types support a large number of time units. I'll show a few here. For more, you can check the address below.\n",
    "\n",
    "https://docs.scipy.org/doc/numpy-1.15.4/reference/arrays.datetime.html"
   ]
  },
  {
   "cell_type": "code",
   "execution_count": 13,
   "id": "0abcf6d8",
   "metadata": {},
   "outputs": [
    {
     "data": {
      "text/plain": [
       "array(['2020-01-01T00', '2021-01-01T00', '2022-01-01T00'],\n",
       "      dtype='datetime64[h]')"
      ]
     },
     "execution_count": 13,
     "metadata": {},
     "output_type": "execute_result"
    }
   ],
   "source": [
    "#NumPy data type is called 'datetime64'\n",
    "np.array(['2020-01-01', '2021-01-01', '2022-01-01'], \n",
    "         dtype = 'datetime64[h]') # Hour"
   ]
  },
  {
   "cell_type": "code",
   "execution_count": 14,
   "id": "6fe59522",
   "metadata": {},
   "outputs": [
    {
     "data": {
      "text/plain": [
       "array(['2020-01', '2021-01', '2022-01'], dtype='datetime64[M]')"
      ]
     },
     "execution_count": 14,
     "metadata": {},
     "output_type": "execute_result"
    }
   ],
   "source": [
    "np.array(['2020-01-01', '2021-01-01', '2022-01-01'], \n",
    "         dtype = 'datetime64[M]') # Month"
   ]
  },
  {
   "cell_type": "code",
   "execution_count": 15,
   "id": "54953375",
   "metadata": {},
   "outputs": [
    {
     "data": {
      "text/plain": [
       "array(['2020', '2021', '2022'], dtype='datetime64[Y]')"
      ]
     },
     "execution_count": 15,
     "metadata": {},
     "output_type": "execute_result"
    }
   ],
   "source": [
    "np.array(['2020-01-01', '2021-01-01', '2022-01-01'], \n",
    "         dtype = 'datetime64[Y]') # Year"
   ]
  },
  {
   "cell_type": "markdown",
   "id": "0333799a",
   "metadata": {},
   "source": [
    "#### Date Ranges"
   ]
  },
  {
   "cell_type": "code",
   "execution_count": 16,
   "id": "6cfd0d9f",
   "metadata": {},
   "outputs": [
    {
     "data": {
      "text/plain": [
       "array(['2020-01', '2020-02', '2020-03', '2020-04', '2020-05', '2020-06',\n",
       "       '2020-07', '2020-08', '2020-09', '2020-10', '2020-11', '2020-12',\n",
       "       '2021-01', '2021-02', '2021-03', '2021-04', '2021-05', '2021-06',\n",
       "       '2021-07', '2021-08', '2021-09', '2021-10', '2021-11', '2021-12'],\n",
       "      dtype='datetime64[M]')"
      ]
     },
     "execution_count": 16,
     "metadata": {},
     "output_type": "execute_result"
    }
   ],
   "source": [
    "#np.arange(start,stop,dtype)\n",
    "\n",
    "np.arange('2020-01-01', '2022-01-01', dtype = 'datetime64[M]')"
   ]
  },
  {
   "cell_type": "code",
   "execution_count": 17,
   "id": "c8c198b7",
   "metadata": {},
   "outputs": [
    {
     "data": {
      "text/plain": [
       "array(['2020-01', '2020-04', '2020-07', '2020-10', '2021-01', '2021-04',\n",
       "       '2021-07', '2021-10'], dtype='datetime64[M]')"
      ]
     },
     "execution_count": 17,
     "metadata": {},
     "output_type": "execute_result"
    }
   ],
   "source": [
    "#np.arange(start,stop,step,dtype)\n",
    "\n",
    "np.arange('2020-01-01', '2022-01-01',3 , dtype = 'datetime64[M]')"
   ]
  },
  {
   "cell_type": "markdown",
   "id": "32bdfa38",
   "metadata": {},
   "source": [
    "### 3- Pandas Datetime Index"
   ]
  },
  {
   "cell_type": "code",
   "execution_count": 18,
   "id": "79fceb2a",
   "metadata": {},
   "outputs": [],
   "source": [
    "import pandas as pd"
   ]
  },
  {
   "cell_type": "code",
   "execution_count": 19,
   "id": "b4429682",
   "metadata": {},
   "outputs": [
    {
     "data": {
      "text/plain": [
       "DatetimeIndex(['2022-01-31', '2022-02-28', '2022-03-31', '2022-04-30',\n",
       "               '2022-05-31', '2022-06-30', '2022-07-31', '2022-08-31',\n",
       "               '2022-09-30', '2022-10-31', '2022-11-30', '2022-12-31'],\n",
       "              dtype='datetime64[ns]', freq='M')"
      ]
     },
     "execution_count": 19,
     "metadata": {},
     "output_type": "execute_result"
    }
   ],
   "source": [
    "#creating an array of 12 dates one month apart.\n",
    "\n",
    "pd.date_range('1/1/2022', periods = 12, freq='M')"
   ]
  },
  {
   "cell_type": "code",
   "execution_count": 20,
   "id": "c2fe78ad",
   "metadata": {},
   "outputs": [
    {
     "data": {
      "text/plain": [
       "DatetimeIndex(['2021-01-01', '2022-01-01', '2023-01-01', '2024-01-01'], dtype='datetime64[ns]', freq=None)"
      ]
     },
     "execution_count": 20,
     "metadata": {},
     "output_type": "execute_result"
    }
   ],
   "source": [
    "idx = pd.to_datetime(['2021-01-01','Jan 01, 2022','1/1/2023','01-Jan-2024'])\n",
    "idx"
   ]
  },
  {
   "cell_type": "code",
   "execution_count": 21,
   "id": "7aa1fc9a",
   "metadata": {},
   "outputs": [
    {
     "data": {
      "text/plain": [
       "array([[0.35832798, 0.6501921 , 0.8711941 , 0.51726204],\n",
       "       [0.04204628, 0.59447552, 0.29152117, 0.54009291],\n",
       "       [0.78045471, 0.25026757, 0.2684051 , 0.49994608],\n",
       "       [0.16292173, 0.91857037, 0.24398317, 0.28859477]])"
      ]
     },
     "execution_count": 21,
     "metadata": {},
     "output_type": "execute_result"
    }
   ],
   "source": [
    "data = np.random.rand(4,4)\n",
    "data"
   ]
  },
  {
   "cell_type": "code",
   "execution_count": 22,
   "id": "8ada7ba5",
   "metadata": {},
   "outputs": [
    {
     "data": {
      "text/html": [
       "<div>\n",
       "<style scoped>\n",
       "    .dataframe tbody tr th:only-of-type {\n",
       "        vertical-align: middle;\n",
       "    }\n",
       "\n",
       "    .dataframe tbody tr th {\n",
       "        vertical-align: top;\n",
       "    }\n",
       "\n",
       "    .dataframe thead th {\n",
       "        text-align: right;\n",
       "    }\n",
       "</style>\n",
       "<table border=\"1\" class=\"dataframe\">\n",
       "  <thead>\n",
       "    <tr style=\"text-align: right;\">\n",
       "      <th></th>\n",
       "      <th>A</th>\n",
       "      <th>B</th>\n",
       "      <th>C</th>\n",
       "      <th>D</th>\n",
       "    </tr>\n",
       "  </thead>\n",
       "  <tbody>\n",
       "    <tr>\n",
       "      <th>2021-01-01</th>\n",
       "      <td>0.358328</td>\n",
       "      <td>0.650192</td>\n",
       "      <td>0.871194</td>\n",
       "      <td>0.517262</td>\n",
       "    </tr>\n",
       "    <tr>\n",
       "      <th>2022-01-01</th>\n",
       "      <td>0.042046</td>\n",
       "      <td>0.594476</td>\n",
       "      <td>0.291521</td>\n",
       "      <td>0.540093</td>\n",
       "    </tr>\n",
       "    <tr>\n",
       "      <th>2023-01-01</th>\n",
       "      <td>0.780455</td>\n",
       "      <td>0.250268</td>\n",
       "      <td>0.268405</td>\n",
       "      <td>0.499946</td>\n",
       "    </tr>\n",
       "    <tr>\n",
       "      <th>2024-01-01</th>\n",
       "      <td>0.162922</td>\n",
       "      <td>0.918570</td>\n",
       "      <td>0.243983</td>\n",
       "      <td>0.288595</td>\n",
       "    </tr>\n",
       "  </tbody>\n",
       "</table>\n",
       "</div>"
      ],
      "text/plain": [
       "                   A         B         C         D\n",
       "2021-01-01  0.358328  0.650192  0.871194  0.517262\n",
       "2022-01-01  0.042046  0.594476  0.291521  0.540093\n",
       "2023-01-01  0.780455  0.250268  0.268405  0.499946\n",
       "2024-01-01  0.162922  0.918570  0.243983  0.288595"
      ]
     },
     "execution_count": 22,
     "metadata": {},
     "output_type": "execute_result"
    }
   ],
   "source": [
    "pd.DataFrame(data, idx, columns = ['A', 'B', 'C', 'D'])"
   ]
  }
 ],
 "metadata": {
  "kernelspec": {
   "display_name": "Python 3 (ipykernel)",
   "language": "python",
   "name": "python3"
  },
  "language_info": {
   "codemirror_mode": {
    "name": "ipython",
    "version": 3
   },
   "file_extension": ".py",
   "mimetype": "text/x-python",
   "name": "python",
   "nbconvert_exporter": "python",
   "pygments_lexer": "ipython3",
   "version": "3.9.13"
  }
 },
 "nbformat": 4,
 "nbformat_minor": 5
}
